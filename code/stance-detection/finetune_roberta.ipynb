{
  "cells": [
    {
      "cell_type": "markdown",
      "source": [
        "# This Notebook was run in Colab"
      ],
      "metadata": {
        "id": "Obn1MZtQ5voy"
      }
    },
    {
      "cell_type": "markdown",
      "source": [
        "Install libraries"
      ],
      "metadata": {
        "id": "VqqKT4dO58sJ"
      }
    },
    {
      "cell_type": "code",
      "execution_count": null,
      "metadata": {
        "id": "K8aLyU8_C2QC"
      },
      "outputs": [],
      "source": [
        "!pip install torch torchvision\n",
        "!pip install transformers"
      ]
    },
    {
      "cell_type": "code",
      "execution_count": null,
      "metadata": {
        "id": "_gHeDUf4DQ2V"
      },
      "outputs": [],
      "source": [
        "import pandas as pd\n",
        "import numpy as np\n",
        "from transformers import RobertaConfig, AutoTokenizer, AutoModelForSequenceClassification\n",
        "from scipy.special import softmax\n",
        "import numpy as np\n",
        "import torch\n",
        "from torch.utils.data import Dataset\n",
        "\n",
        "# mount the google drive\n",
        "from google.colab import drive\n",
        "drive.mount('/content/gdrive')\n",
        "\n"
      ]
    },
    {
      "cell_type": "code",
      "execution_count": null,
      "metadata": {
        "id": "UW7yHpk7Dd-B"
      },
      "outputs": [],
      "source": [
        "# Stance dataset used for fine-tuning are the english sentences form the CompSent-19 dataset\n",
        "\n",
        "df_train = pd.read_csv('gdrive/MyDrive/data/comparg_train.tsv', sep='\\t', encoding='utf-8') #https://github.com/webis-de/ratio24-multilingual-cam/blob/ad8bd12cf7a8be235e689d4042641183212ab87c/data/compsent_train.tsv\n",
        "df_test = pd.read_csv('gdrive/MyDrive/data/comparg_test.tsv', sep='\\t', encoding='utf-8') #https://github.com/webis-de/ratio24-multilingual-cam/blob/ad8bd12cf7a8be235e689d4042641183212ab87c/data/compsent_test.tsv"
      ]
    },
    {
      "cell_type": "code",
      "execution_count": null,
      "metadata": {
        "id": "ZWZQTLdDJ6Ve"
      },
      "outputs": [],
      "source": [
        "# fix labels the labels (0,2,3) -> (0,1,2)\n",
        "df_train['labels'] = df_train['labels'].replace({2: 1})\n",
        "df_train['labels'] = df_train['labels'].replace({3: 2})\n",
        "\n",
        "df_test['labels'] = df_test['labels'].replace({2: 1})\n",
        "df_test['labels'] = df_test['labels'].replace({3: 2})\n",
        "\n",
        "\n"
      ]
    },
    {
      "cell_type": "code",
      "execution_count": null,
      "metadata": {
        "id": "VVfdZHAjDnbd"
      },
      "outputs": [],
      "source": [
        "#mask objects: replace the first object with \"[FIRST_ENTITY]\" and the second object with \"[SECOND_ENTITY]\" in every sample\n",
        "import re\n",
        "\n",
        "def mask_objects(row):\n",
        "    row[\"text\"] = re.sub(re.escape(row[\"object_0\"]), \"[FIRST_ENTITY]\", row[\"answer\"], flags=re.IGNORECASE)\n",
        "    row[\"text\"] = re.sub(re.escape(row[\"object_1\"]), \"[SECOND_ENTITY]\", row[\"text\"], flags=re.IGNORECASE)\n",
        "    return row\n",
        "\n",
        "\n",
        "def transform_data(df):\n",
        "  df = df.apply(mask_objects,axis=1)\n",
        "  return df\n",
        "\n",
        "df_train = transform_data(df_train).sample(frac=1, random_state=42).reset_index(drop=True)\n",
        "df_test = transform_data(df_test)"
      ]
    },
    {
      "cell_type": "code",
      "execution_count": null,
      "metadata": {
        "id": "BCIRhpcWDsuG",
        "colab": {
          "base_uri": "https://localhost:8080/"
        },
        "outputId": "82d4e51a-b824-4fd0-c9c1-d64f9fb53796"
      },
      "outputs": [
        {
          "output_type": "stream",
          "name": "stdout",
          "text": [
            "          object_0 object_1  \\\n",
            "0  Hewlett-Packard     Dell   \n",
            "1            Apple   Google   \n",
            "2            pizza  sausage   \n",
            "3            Apple    Intel   \n",
            "4           Oracle    MySQL   \n",
            "\n",
            "                                              answer  labels  \\\n",
            "0  Nokia towered over its rivals in ways that Toy...       0   \n",
            "1  For better or worse, a majority of people stil...       0   \n",
            "2  Moral disputes are like disputes about whether...       1   \n",
            "3  Notice that Apple no longer develop its own pr...       0   \n",
            "4                           Would Oracle Harm MySQL?       0   \n",
            "\n",
            "                                                text  \n",
            "0  Nokia towered over its rivals in ways that Toy...  \n",
            "1  For better or worse, a majority of people stil...  \n",
            "2  Moral disputes are like disputes about whether...  \n",
            "3  Notice that [FIRST_ENTITY] no longer develop i...  \n",
            "4         Would [FIRST_ENTITY] Harm [SECOND_ENTITY]?  \n"
          ]
        }
      ],
      "source": [
        "#preview of the train dataset\n",
        "print(df_train.head())"
      ]
    },
    {
      "cell_type": "code",
      "execution_count": null,
      "metadata": {
        "colab": {
          "base_uri": "https://localhost:8080/",
          "height": 461
        },
        "id": "5-4tJLoVMBu6",
        "outputId": "3e641160-100a-48d1-909d-109dc197c266"
      },
      "outputs": [
        {
          "output_type": "execute_result",
          "data": {
            "text/plain": [
              "<Axes: xlabel='labels'>"
            ]
          },
          "metadata": {},
          "execution_count": 7
        },
        {
          "output_type": "display_data",
          "data": {
            "text/plain": [
              "<Figure size 640x480 with 1 Axes>"
            ],
            "image/png": "[encoded data removed]"
          },
          "metadata": {}
        }
      ],
      "source": [
        "#trainset class distribution\n",
        "df_train['labels'].value_counts().sort_index().plot(kind='bar')"
      ]
    },
    {
      "cell_type": "code",
      "source": [
        "#testset class distribution\n",
        "df_test['labels'].value_counts().sort_index().plot(kind='bar')"
      ],
      "metadata": {
        "colab": {
          "base_uri": "https://localhost:8080/",
          "height": 461
        },
        "id": "rKARn3sg29M7",
        "outputId": "01fba139-7951-45a0-80fc-678a2d3c35b8"
      },
      "execution_count": null,
      "outputs": [
        {
          "output_type": "execute_result",
          "data": {
            "text/plain": [
              "<Axes: xlabel='labels'>"
            ]
          },
          "metadata": {},
          "execution_count": 8
        },
        {
          "output_type": "display_data",
          "data": {
            "text/plain": [
              "<Figure size 640x480 with 1 Axes>"
            ],
            "image/png": "[encoded data removed]"
          },
          "metadata": {}
        }
      ]
    },
    {
      "cell_type": "code",
      "execution_count": null,
      "metadata": {
        "id": "40T4F5ArdFyR"
      },
      "outputs": [],
      "source": [
        "#dataset class will take list as input\n",
        "train_texts = df_train['text'].tolist()\n",
        "train_labels = df_train['labels'].tolist()\n",
        "test_texts = df_test['text'].tolist()\n",
        "test_labels = df_test['labels'].tolist()"
      ]
    },
    {
      "cell_type": "code",
      "execution_count": null,
      "metadata": {
        "id": "jU69vJ8pg-Hy"
      },
      "outputs": [],
      "source": [
        "print(train_texts)\n",
        "print(train_labels)\n",
        "print(test_texts)\n",
        "print(test_labels)"
      ]
    },
    {
      "cell_type": "markdown",
      "source": [
        "## Fine-tune RoBERTa"
      ],
      "metadata": {
        "id": "IujytuCqA6hH"
      }
    },
    {
      "cell_type": "code",
      "execution_count": null,
      "metadata": {
        "id": "C0qSrTRLcZiF"
      },
      "outputs": [],
      "source": [
        "#Import RoBERTa-tokenizer for sentiment-analysis from huggingface\n",
        "tokenizer = AutoTokenizer.from_pretrained('roberta-large')"
      ]
    },
    {
      "cell_type": "code",
      "execution_count": null,
      "metadata": {
        "id": "rmE4RTEQRQo_"
      },
      "outputs": [],
      "source": [
        "class CustomDataset(Dataset):\n",
        "    def __init__(self, texts, labels, tokenizer, max_length):\n",
        "        self.texts = texts\n",
        "        self.labels = labels\n",
        "        self.tokenizer = tokenizer\n",
        "        self.max_length = max_length\n",
        "\n",
        "    def __len__(self):\n",
        "        return len(self.texts)\n",
        "\n",
        "    def __getitem__(self, idx):\n",
        "        text = self.texts[idx]\n",
        "        label = self.labels[idx]\n",
        "\n",
        "\n",
        "        inputs = self.tokenizer.encode_plus(\n",
        "            text,\n",
        "            add_special_tokens=True,\n",
        "            max_length=self.max_length,\n",
        "            padding='max_length',\n",
        "            return_attention_mask=True,\n",
        "            return_tensors='pt'\n",
        "        )\n",
        "\n",
        "        input_ids = inputs['input_ids'].squeeze()\n",
        "        attention_mask = inputs['attention_mask'].squeeze()\n",
        "\n",
        "        return {\n",
        "            'input_ids': input_ids,\n",
        "            'attention_mask': attention_mask,\n",
        "            'labels': torch.tensor(label, dtype=torch.long)\n",
        "        }\n",
        "\n",
        "\n",
        "\n"
      ]
    },
    {
      "cell_type": "code",
      "execution_count": null,
      "metadata": {
        "id": "d1TB0VtWcENX"
      },
      "outputs": [],
      "source": [
        "max_length = 64\n",
        "train_dataset = CustomDataset(train_texts, train_labels, tokenizer, max_length)\n",
        "test_dataset = CustomDataset(test_texts, test_labels, tokenizer, max_length)"
      ]
    },
    {
      "cell_type": "code",
      "execution_count": null,
      "metadata": {
        "id": "-zDptqjDFYi7"
      },
      "outputs": [],
      "source": [
        "from transformers import set_seed, AutoModelForSequenceClassification\n",
        "set_seed(42)\n",
        "model = AutoModelForSequenceClassification.from_pretrained(\"roberta-large\", num_labels=3)"
      ]
    },
    {
      "cell_type": "code",
      "execution_count": null,
      "metadata": {
        "id": "3q__gMwUM0xn"
      },
      "outputs": [],
      "source": [
        "from transformers import TrainingArguments, Trainer, DataCollatorWithPadding\n",
        "\n",
        "training_args = TrainingArguments(\n",
        "    overwrite_output_dir=True,\n",
        "    num_train_epochs=5,\n",
        "    fp16=False, # fp32 precision training\n",
        "    per_device_train_batch_size=16,\n",
        "    gradient_accumulation_steps=1,\n",
        "    learning_rate=3e-5,\n",
        "    output_dir=\"gdrive/MyDrive/checkpoints\",\n",
        "\n",
        "\n",
        "    )\n",
        "data_collator = DataCollatorWithPadding(tokenizer=tokenizer)"
      ]
    },
    {
      "cell_type": "code",
      "execution_count": null,
      "metadata": {
        "id": "K2hypoSWPQ7m"
      },
      "outputs": [],
      "source": [
        "trainer = Trainer(\n",
        "    model = model,\n",
        "    args = training_args,\n",
        "    train_dataset = train_dataset,\n",
        "    data_collator = data_collator,\n",
        "    tokenizer = tokenizer,\n",
        ")"
      ]
    },
    {
      "cell_type": "code",
      "execution_count": null,
      "metadata": {
        "id": "AGz6jZXfgRce",
        "colab": {
          "base_uri": "https://localhost:8080/",
          "height": 242
        },
        "outputId": "a62b7605-fc0f-4b42-e563-978c9f053924"
      },
      "outputs": [
        {
          "output_type": "stream",
          "name": "stderr",
          "text": [
            "You're using a RobertaTokenizerFast tokenizer. Please note that with a fast tokenizer, using the `__call__` method is faster than using a method to encode the text followed by a call to the `pad` method to get a padded encoding.\n"
          ]
        },
        {
          "output_type": "display_data",
          "data": {
            "text/plain": [
              "<IPython.core.display.HTML object>"
            ],
            "text/html": [
              "\n",
              "    <div>\n",
              "      \n",
              "      <progress value='1800' max='1800' style='width:300px; height:20px; vertical-align: middle;'></progress>\n",
              "      [1800/1800 03:56, Epoch 5/5]\n",
              "    </div>\n",
              "    <table border=\"1\" class=\"dataframe\">\n",
              "  <thead>\n",
              " <tr style=\"text-align: left;\">\n",
              "      <th>Step</th>\n",
              "      <th>Training Loss</th>\n",
              "    </tr>\n",
              "  </thead>\n",
              "  <tbody>\n",
              "    <tr>\n",
              "      <td>500</td>\n",
              "      <td>0.511500</td>\n",
              "    </tr>\n",
              "    <tr>\n",
              "      <td>1000</td>\n",
              "      <td>0.391600</td>\n",
              "    </tr>\n",
              "    <tr>\n",
              "      <td>1500</td>\n",
              "      <td>0.272800</td>\n",
              "    </tr>\n",
              "  </tbody>\n",
              "</table><p>"
            ]
          },
          "metadata": {}
        },
        {
          "output_type": "execute_result",
          "data": {
            "text/plain": [
              "TrainOutput(global_step=1800, training_loss=0.36387203640407983, metrics={'train_runtime': 240.89, 'train_samples_per_second': 119.536, 'train_steps_per_second': 7.472, 'total_flos': 4520894406455064.0, 'train_loss': 0.36387203640407983, 'epoch': 5.0})"
            ]
          },
          "metadata": {},
          "execution_count": 14
        }
      ],
      "source": [
        "trainer.train()"
      ]
    },
    {
      "cell_type": "markdown",
      "source": [
        "## Evaluating the fine-tuned RoBERTa"
      ],
      "metadata": {
        "id": "KFZm1a_WFEbo"
      }
    },
    {
      "cell_type": "code",
      "source": [
        "#predict the testset\n",
        "outputs = trainer.predict(test_dataset)"
      ],
      "metadata": {
        "colab": {
          "base_uri": "https://localhost:8080/",
          "height": 17
        },
        "id": "0Vv-3O8AEPcJ",
        "outputId": "ac87b746-5d7f-42bc-dbc7-1cffaaed4d98"
      },
      "execution_count": null,
      "outputs": [
        {
          "output_type": "display_data",
          "data": {
            "text/plain": [
              "<IPython.core.display.HTML object>"
            ],
            "text/html": []
          },
          "metadata": {}
        }
      ]
    },
    {
      "cell_type": "code",
      "source": [
        "#Extending the Comparative Argumentative Machine: Multilingualism and Stance Detection, Table 1, RoBERTa:\n",
        "#Results on CompSent-19 testset with RoBERTa trained on CompSent-19 trainset\n",
        "from sklearn.metrics import classification_report\n",
        "from sklearn.metrics import f1_score\n",
        "\n",
        "predictions = outputs.predictions.argmax(-1)\n",
        "target_names = [\"neutral\", \"objekt1\", \"objekt2\"]         #  labels:  0 =  \"neutral\"  , 1 = \"objekt1\". , 2 = \"objekt2\"\n",
        "print(classification_report(y_true=test_dataset.labels, y_pred=predictions, target_names=target_names))\n",
        "print(f\"F1-micro: {f1_score(y_true=test_dataset.labels, y_pred=predictions, average='micro')}\")\n"
      ],
      "metadata": {
        "id": "XSdRvFUTv3hm",
        "colab": {
          "base_uri": "https://localhost:8080/"
        },
        "outputId": "f0b4ec1f-8758-4ccd-c87f-6b9c88fcf9cf"
      },
      "execution_count": null,
      "outputs": [
        {
          "output_type": "stream",
          "name": "stdout",
          "text": [
            "              precision    recall  f1-score   support\n",
            "\n",
            "     neutral       0.95      0.94      0.94      1048\n",
            "     objekt1       0.85      0.87      0.86       273\n",
            "     objekt2       0.68      0.71      0.70       119\n",
            "\n",
            "    accuracy                           0.91      1440\n",
            "   macro avg       0.83      0.84      0.83      1440\n",
            "weighted avg       0.91      0.91      0.91      1440\n",
            "\n",
            "F1-micro: 0.9076388888888889\n"
          ]
        }
      ]
    },
    {
      "cell_type": "code",
      "source": [
        "#saving the finetuned model\n",
        "output_model_dir = 'gdrive/MyDrive/finetuned/roberta_5epoch'\n",
        "trainer.save_model(output_model_dir)"
      ],
      "metadata": {
        "id": "ScIeJYSqWDKt"
      },
      "execution_count": null,
      "outputs": []
    },
    {
      "cell_type": "code",
      "source": [
        "#saving the predictions\n",
        "df_test['preds'] = predictions\n",
        "df_test.to_csv('gdrive/MyDrive/results/roberta_5epoch_preds.tsv', sep=\"\\t\", index=False) #https://github.com/webis-de/ratio24-multilingual-cam/blob/ad8bd12cf7a8be235e689d4042641183212ab87c/results/stance_eng/roberta_5epoch_preds.tsv"
      ],
      "metadata": {
        "id": "-DtQXwLXElZ5"
      },
      "execution_count": null,
      "outputs": []
    },
    {
      "cell_type": "code",
      "source": [
        "#control if model export worked out\n",
        "model = AutoModelForSequenceClassification.from_pretrained('gdrive/MyDrive/finetuned/roberta_5epoch')\n",
        "tokenizer = AutoTokenizer.from_pretrained('gdrive/MyDrive/finetuned/roberta_5epoch')\n"
      ],
      "metadata": {
        "id": "uPTYWdDVT5zk"
      },
      "execution_count": null,
      "outputs": []
    },
    {
      "cell_type": "code",
      "source": [
        "trainer = Trainer(\n",
        "    model = model,\n",
        "    args = training_args,\n",
        "    train_dataset = train_dataset,\n",
        "    data_collator = data_collator,\n",
        "    tokenizer = tokenizer,\n",
        ")"
      ],
      "metadata": {
        "id": "Z9NESSHKUTHP"
      },
      "execution_count": null,
      "outputs": []
    },
    {
      "cell_type": "code",
      "source": [
        "outputs = trainer.predict(test_dataset)"
      ],
      "metadata": {
        "colab": {
          "base_uri": "https://localhost:8080/",
          "height": 17
        },
        "id": "gYiQFyXiUxV1",
        "outputId": "26977e3c-514b-4d12-90f5-f2d01ea6457d"
      },
      "execution_count": null,
      "outputs": [
        {
          "output_type": "display_data",
          "data": {
            "text/plain": [
              "<IPython.core.display.HTML object>"
            ],
            "text/html": []
          },
          "metadata": {}
        }
      ]
    },
    {
      "cell_type": "code",
      "source": [
        "from sklearn.metrics import classification_report\n",
        "from sklearn.metrics import f1_score\n",
        "\n",
        "predictions = outputs.predictions.argmax(-1)\n",
        "target_names = [\"neutral\", \"objekt1\", \"objekt2\"]\n",
        "print(classification_report(y_true=test_dataset.labels, y_pred=predictions, target_names=target_names))\n",
        "print(f\"F1-micro: {f1_score(y_true=test_dataset.labels, y_pred=predictions, average='micro')}\")"
      ],
      "metadata": {
        "colab": {
          "base_uri": "https://localhost:8080/"
        },
        "id": "sfxs0eBSUNLC",
        "outputId": "398a4706-80f6-4f59-924a-a85d9671475c"
      },
      "execution_count": null,
      "outputs": [
        {
          "output_type": "stream",
          "name": "stdout",
          "text": [
            "              precision    recall  f1-score   support\n",
            "\n",
            "     neutral       0.95      0.94      0.94      1048\n",
            "     objekt1       0.85      0.87      0.86       273\n",
            "     objekt2       0.68      0.71      0.70       119\n",
            "\n",
            "    accuracy                           0.91      1440\n",
            "   macro avg       0.83      0.84      0.83      1440\n",
            "weighted avg       0.91      0.91      0.91      1440\n",
            "\n",
            "F1-micro: 0.9076388888888889\n"
          ]
        }
      ]
    }
  ],
  "metadata": {
    "colab": {
      "provenance": [],
      "gpuType": "T4"
    },
    "kernelspec": {
      "display_name": "Python 3",
      "name": "python3"
    },
    "language_info": {
      "name": "python"
    },
    "accelerator": "GPU"
  },
  "nbformat": 4,
  "nbformat_minor": 0
}